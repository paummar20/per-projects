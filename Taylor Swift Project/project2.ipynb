{
 "cells": [
  {
   "attachments": {},
   "cell_type": "markdown",
   "id": "e6a25bde",
   "metadata": {},
   "source": [
    "### Introduction: Paula Martinez STAT 107 Final Project\n",
    "#### Section 1: Chosen Dataframe and Possible Duplicates\n",
    "In this project, I will be analyzing a dataset containing information on Taylor Swift's albums that are available on Spotify. The dataset contains sixteen columns, sorting each song by name, album, release date, track number, its unique ID on spotify, the Spotify uri for the song, and a variety of factors on the actual sound of each song. These factors include: acousticness, danceability, energy, instrumentalness, liveness, loudness, speechiness, tempo, and valence. The final two columns are popularity and the duration of each song in milliseconds."
   ]
  },
  {
   "cell_type": "code",
   "execution_count": 182,
   "id": "f624865f",
   "metadata": {},
   "outputs": [
    {
     "data": {
      "text/html": [
       "<div>\n",
       "<style scoped>\n",
       "    .dataframe tbody tr th:only-of-type {\n",
       "        vertical-align: middle;\n",
       "    }\n",
       "\n",
       "    .dataframe tbody tr th {\n",
       "        vertical-align: top;\n",
       "    }\n",
       "\n",
       "    .dataframe thead th {\n",
       "        text-align: right;\n",
       "    }\n",
       "</style>\n",
       "<table border=\"1\" class=\"dataframe\">\n",
       "  <thead>\n",
       "    <tr style=\"text-align: right;\">\n",
       "      <th></th>\n",
       "      <th>Unnamed: 0</th>\n",
       "      <th>name</th>\n",
       "      <th>album</th>\n",
       "      <th>release_date</th>\n",
       "      <th>track_number</th>\n",
       "      <th>id</th>\n",
       "      <th>uri</th>\n",
       "      <th>acousticness</th>\n",
       "      <th>danceability</th>\n",
       "      <th>energy</th>\n",
       "      <th>instrumentalness</th>\n",
       "      <th>liveness</th>\n",
       "      <th>loudness</th>\n",
       "      <th>speechiness</th>\n",
       "      <th>tempo</th>\n",
       "      <th>valence</th>\n",
       "      <th>popularity</th>\n",
       "      <th>duration_ms</th>\n",
       "    </tr>\n",
       "  </thead>\n",
       "  <tbody>\n",
       "    <tr>\n",
       "      <th>0</th>\n",
       "      <td>0</td>\n",
       "      <td>Lavender Haze</td>\n",
       "      <td>Midnights (3am Edition)</td>\n",
       "      <td>2022-10-22</td>\n",
       "      <td>1</td>\n",
       "      <td>4g2c7NoTWAOSYDy44l9nub</td>\n",
       "      <td>spotify:track:4g2c7NoTWAOSYDy44l9nub</td>\n",
       "      <td>0.204000</td>\n",
       "      <td>0.735</td>\n",
       "      <td>0.444</td>\n",
       "      <td>0.001200</td>\n",
       "      <td>0.1700</td>\n",
       "      <td>-10.519</td>\n",
       "      <td>0.0684</td>\n",
       "      <td>97.038</td>\n",
       "      <td>0.0984</td>\n",
       "      <td>76</td>\n",
       "      <td>202395</td>\n",
       "    </tr>\n",
       "    <tr>\n",
       "      <th>1</th>\n",
       "      <td>1</td>\n",
       "      <td>Maroon</td>\n",
       "      <td>Midnights (3am Edition)</td>\n",
       "      <td>2022-10-22</td>\n",
       "      <td>2</td>\n",
       "      <td>199E1RRrVmVTQqBXih5qRC</td>\n",
       "      <td>spotify:track:199E1RRrVmVTQqBXih5qRC</td>\n",
       "      <td>0.059300</td>\n",
       "      <td>0.658</td>\n",
       "      <td>0.378</td>\n",
       "      <td>0.000000</td>\n",
       "      <td>0.0976</td>\n",
       "      <td>-8.300</td>\n",
       "      <td>0.0379</td>\n",
       "      <td>108.034</td>\n",
       "      <td>0.0382</td>\n",
       "      <td>75</td>\n",
       "      <td>218270</td>\n",
       "    </tr>\n",
       "    <tr>\n",
       "      <th>2</th>\n",
       "      <td>2</td>\n",
       "      <td>Anti-Hero</td>\n",
       "      <td>Midnights (3am Edition)</td>\n",
       "      <td>2022-10-22</td>\n",
       "      <td>3</td>\n",
       "      <td>02Zkkf2zMkwRGQjZ7T4p8f</td>\n",
       "      <td>spotify:track:02Zkkf2zMkwRGQjZ7T4p8f</td>\n",
       "      <td>0.133000</td>\n",
       "      <td>0.638</td>\n",
       "      <td>0.634</td>\n",
       "      <td>0.000001</td>\n",
       "      <td>0.1520</td>\n",
       "      <td>-6.582</td>\n",
       "      <td>0.0457</td>\n",
       "      <td>96.953</td>\n",
       "      <td>0.5190</td>\n",
       "      <td>77</td>\n",
       "      <td>200690</td>\n",
       "    </tr>\n",
       "    <tr>\n",
       "      <th>3</th>\n",
       "      <td>3</td>\n",
       "      <td>Snow On The Beach (feat. Lana Del Rey)</td>\n",
       "      <td>Midnights (3am Edition)</td>\n",
       "      <td>2022-10-22</td>\n",
       "      <td>4</td>\n",
       "      <td>6ADDIJxxqzM9LMpm78yzQG</td>\n",
       "      <td>spotify:track:6ADDIJxxqzM9LMpm78yzQG</td>\n",
       "      <td>0.735000</td>\n",
       "      <td>0.659</td>\n",
       "      <td>0.323</td>\n",
       "      <td>0.003210</td>\n",
       "      <td>0.1160</td>\n",
       "      <td>-13.425</td>\n",
       "      <td>0.0436</td>\n",
       "      <td>110.007</td>\n",
       "      <td>0.1540</td>\n",
       "      <td>74</td>\n",
       "      <td>256124</td>\n",
       "    </tr>\n",
       "    <tr>\n",
       "      <th>4</th>\n",
       "      <td>4</td>\n",
       "      <td>You're On Your Own, Kid</td>\n",
       "      <td>Midnights (3am Edition)</td>\n",
       "      <td>2022-10-22</td>\n",
       "      <td>5</td>\n",
       "      <td>7gVWKBcfIW93YxNBi3ApIE</td>\n",
       "      <td>spotify:track:7gVWKBcfIW93YxNBi3ApIE</td>\n",
       "      <td>0.416000</td>\n",
       "      <td>0.694</td>\n",
       "      <td>0.380</td>\n",
       "      <td>0.000008</td>\n",
       "      <td>0.1260</td>\n",
       "      <td>-10.307</td>\n",
       "      <td>0.0614</td>\n",
       "      <td>120.044</td>\n",
       "      <td>0.3760</td>\n",
       "      <td>75</td>\n",
       "      <td>194206</td>\n",
       "    </tr>\n",
       "    <tr>\n",
       "      <th>...</th>\n",
       "      <td>...</td>\n",
       "      <td>...</td>\n",
       "      <td>...</td>\n",
       "      <td>...</td>\n",
       "      <td>...</td>\n",
       "      <td>...</td>\n",
       "      <td>...</td>\n",
       "      <td>...</td>\n",
       "      <td>...</td>\n",
       "      <td>...</td>\n",
       "      <td>...</td>\n",
       "      <td>...</td>\n",
       "      <td>...</td>\n",
       "      <td>...</td>\n",
       "      <td>...</td>\n",
       "      <td>...</td>\n",
       "      <td>...</td>\n",
       "      <td>...</td>\n",
       "    </tr>\n",
       "    <tr>\n",
       "      <th>1260</th>\n",
       "      <td>1260</td>\n",
       "      <td>Mary's Song (Oh My My My) - Instrumental w/ BG...</td>\n",
       "      <td>Taylor Swift Karaoke</td>\n",
       "      <td>2006-10-24</td>\n",
       "      <td>10</td>\n",
       "      <td>5YluKOG2VGcJMO8XVMpg9h</td>\n",
       "      <td>spotify:track:5YluKOG2VGcJMO8XVMpg9h</td>\n",
       "      <td>0.000081</td>\n",
       "      <td>0.475</td>\n",
       "      <td>0.529</td>\n",
       "      <td>0.562000</td>\n",
       "      <td>0.1460</td>\n",
       "      <td>-10.802</td>\n",
       "      <td>0.0317</td>\n",
       "      <td>151.000</td>\n",
       "      <td>0.3010</td>\n",
       "      <td>6</td>\n",
       "      <td>216226</td>\n",
       "    </tr>\n",
       "    <tr>\n",
       "      <th>1261</th>\n",
       "      <td>1261</td>\n",
       "      <td>Our Song - Instrumental w/ BG vocals</td>\n",
       "      <td>Taylor Swift Karaoke</td>\n",
       "      <td>2006-10-24</td>\n",
       "      <td>11</td>\n",
       "      <td>0PHdWHKV69ZNQyfYLBlVAT</td>\n",
       "      <td>spotify:track:0PHdWHKV69ZNQyfYLBlVAT</td>\n",
       "      <td>0.032600</td>\n",
       "      <td>0.528</td>\n",
       "      <td>0.484</td>\n",
       "      <td>0.001650</td>\n",
       "      <td>0.1400</td>\n",
       "      <td>-9.266</td>\n",
       "      <td>0.0316</td>\n",
       "      <td>178.299</td>\n",
       "      <td>0.5850</td>\n",
       "      <td>11</td>\n",
       "      <td>204306</td>\n",
       "    </tr>\n",
       "    <tr>\n",
       "      <th>1262</th>\n",
       "      <td>1262</td>\n",
       "      <td>I'm Only Me When I'm With You - Instrumental w...</td>\n",
       "      <td>Taylor Swift Karaoke</td>\n",
       "      <td>2006-10-24</td>\n",
       "      <td>12</td>\n",
       "      <td>4Vg8MqpDQFDfKmXdpO1jD3</td>\n",
       "      <td>spotify:track:4Vg8MqpDQFDfKmXdpO1jD3</td>\n",
       "      <td>0.000053</td>\n",
       "      <td>0.541</td>\n",
       "      <td>0.796</td>\n",
       "      <td>0.820000</td>\n",
       "      <td>0.3260</td>\n",
       "      <td>-8.833</td>\n",
       "      <td>0.0306</td>\n",
       "      <td>144.004</td>\n",
       "      <td>0.8470</td>\n",
       "      <td>6</td>\n",
       "      <td>223386</td>\n",
       "    </tr>\n",
       "    <tr>\n",
       "      <th>1263</th>\n",
       "      <td>1263</td>\n",
       "      <td>Invisible - Instrumental w/ BG vocals</td>\n",
       "      <td>Taylor Swift Karaoke</td>\n",
       "      <td>2006-10-24</td>\n",
       "      <td>13</td>\n",
       "      <td>7Fg8MxumrT8axFZVzN1MtT</td>\n",
       "      <td>spotify:track:7Fg8MxumrT8axFZVzN1MtT</td>\n",
       "      <td>0.259000</td>\n",
       "      <td>0.575</td>\n",
       "      <td>0.279</td>\n",
       "      <td>0.572000</td>\n",
       "      <td>0.0941</td>\n",
       "      <td>-12.066</td>\n",
       "      <td>0.0286</td>\n",
       "      <td>96.007</td>\n",
       "      <td>0.1180</td>\n",
       "      <td>5</td>\n",
       "      <td>206480</td>\n",
       "    </tr>\n",
       "    <tr>\n",
       "      <th>1264</th>\n",
       "      <td>1264</td>\n",
       "      <td>A Perfectly Good Heart - Instrumental w/ BG vo...</td>\n",
       "      <td>Taylor Swift Karaoke</td>\n",
       "      <td>2006-10-24</td>\n",
       "      <td>14</td>\n",
       "      <td>12QHKhw9K9yJOJ1nKRiBYI</td>\n",
       "      <td>spotify:track:12QHKhw9K9yJOJ1nKRiBYI</td>\n",
       "      <td>0.000065</td>\n",
       "      <td>0.468</td>\n",
       "      <td>0.658</td>\n",
       "      <td>0.903000</td>\n",
       "      <td>0.1800</td>\n",
       "      <td>-8.908</td>\n",
       "      <td>0.0309</td>\n",
       "      <td>155.995</td>\n",
       "      <td>0.3100</td>\n",
       "      <td>5</td>\n",
       "      <td>227920</td>\n",
       "    </tr>\n",
       "  </tbody>\n",
       "</table>\n",
       "<p>1265 rows × 18 columns</p>\n",
       "</div>"
      ],
      "text/plain": [
       "      Unnamed: 0                                               name  \\\n",
       "0              0                                      Lavender Haze   \n",
       "1              1                                             Maroon   \n",
       "2              2                                          Anti-Hero   \n",
       "3              3             Snow On The Beach (feat. Lana Del Rey)   \n",
       "4              4                            You're On Your Own, Kid   \n",
       "...          ...                                                ...   \n",
       "1260        1260  Mary's Song (Oh My My My) - Instrumental w/ BG...   \n",
       "1261        1261               Our Song - Instrumental w/ BG vocals   \n",
       "1262        1262  I'm Only Me When I'm With You - Instrumental w...   \n",
       "1263        1263              Invisible - Instrumental w/ BG vocals   \n",
       "1264        1264  A Perfectly Good Heart - Instrumental w/ BG vo...   \n",
       "\n",
       "                        album release_date  track_number  \\\n",
       "0     Midnights (3am Edition)   2022-10-22             1   \n",
       "1     Midnights (3am Edition)   2022-10-22             2   \n",
       "2     Midnights (3am Edition)   2022-10-22             3   \n",
       "3     Midnights (3am Edition)   2022-10-22             4   \n",
       "4     Midnights (3am Edition)   2022-10-22             5   \n",
       "...                       ...          ...           ...   \n",
       "1260     Taylor Swift Karaoke   2006-10-24            10   \n",
       "1261     Taylor Swift Karaoke   2006-10-24            11   \n",
       "1262     Taylor Swift Karaoke   2006-10-24            12   \n",
       "1263     Taylor Swift Karaoke   2006-10-24            13   \n",
       "1264     Taylor Swift Karaoke   2006-10-24            14   \n",
       "\n",
       "                          id                                   uri  \\\n",
       "0     4g2c7NoTWAOSYDy44l9nub  spotify:track:4g2c7NoTWAOSYDy44l9nub   \n",
       "1     199E1RRrVmVTQqBXih5qRC  spotify:track:199E1RRrVmVTQqBXih5qRC   \n",
       "2     02Zkkf2zMkwRGQjZ7T4p8f  spotify:track:02Zkkf2zMkwRGQjZ7T4p8f   \n",
       "3     6ADDIJxxqzM9LMpm78yzQG  spotify:track:6ADDIJxxqzM9LMpm78yzQG   \n",
       "4     7gVWKBcfIW93YxNBi3ApIE  spotify:track:7gVWKBcfIW93YxNBi3ApIE   \n",
       "...                      ...                                   ...   \n",
       "1260  5YluKOG2VGcJMO8XVMpg9h  spotify:track:5YluKOG2VGcJMO8XVMpg9h   \n",
       "1261  0PHdWHKV69ZNQyfYLBlVAT  spotify:track:0PHdWHKV69ZNQyfYLBlVAT   \n",
       "1262  4Vg8MqpDQFDfKmXdpO1jD3  spotify:track:4Vg8MqpDQFDfKmXdpO1jD3   \n",
       "1263  7Fg8MxumrT8axFZVzN1MtT  spotify:track:7Fg8MxumrT8axFZVzN1MtT   \n",
       "1264  12QHKhw9K9yJOJ1nKRiBYI  spotify:track:12QHKhw9K9yJOJ1nKRiBYI   \n",
       "\n",
       "      acousticness  danceability  energy  instrumentalness  liveness  \\\n",
       "0         0.204000         0.735   0.444          0.001200    0.1700   \n",
       "1         0.059300         0.658   0.378          0.000000    0.0976   \n",
       "2         0.133000         0.638   0.634          0.000001    0.1520   \n",
       "3         0.735000         0.659   0.323          0.003210    0.1160   \n",
       "4         0.416000         0.694   0.380          0.000008    0.1260   \n",
       "...            ...           ...     ...               ...       ...   \n",
       "1260      0.000081         0.475   0.529          0.562000    0.1460   \n",
       "1261      0.032600         0.528   0.484          0.001650    0.1400   \n",
       "1262      0.000053         0.541   0.796          0.820000    0.3260   \n",
       "1263      0.259000         0.575   0.279          0.572000    0.0941   \n",
       "1264      0.000065         0.468   0.658          0.903000    0.1800   \n",
       "\n",
       "      loudness  speechiness    tempo  valence  popularity  duration_ms  \n",
       "0      -10.519       0.0684   97.038   0.0984          76       202395  \n",
       "1       -8.300       0.0379  108.034   0.0382          75       218270  \n",
       "2       -6.582       0.0457   96.953   0.5190          77       200690  \n",
       "3      -13.425       0.0436  110.007   0.1540          74       256124  \n",
       "4      -10.307       0.0614  120.044   0.3760          75       194206  \n",
       "...        ...          ...      ...      ...         ...          ...  \n",
       "1260   -10.802       0.0317  151.000   0.3010           6       216226  \n",
       "1261    -9.266       0.0316  178.299   0.5850          11       204306  \n",
       "1262    -8.833       0.0306  144.004   0.8470           6       223386  \n",
       "1263   -12.066       0.0286   96.007   0.1180           5       206480  \n",
       "1264    -8.908       0.0309  155.995   0.3100           5       227920  \n",
       "\n",
       "[1265 rows x 18 columns]"
      ]
     },
     "execution_count": 182,
     "metadata": {},
     "output_type": "execute_result"
    }
   ],
   "source": [
    "import pandas as pd\n",
    "df = pd.read_csv(\"taylor_swift_spotify.csv\")\n",
    "df"
   ]
  },
  {
   "attachments": {},
   "cell_type": "markdown",
   "id": "a0d82edb",
   "metadata": {},
   "source": [
    "Upon first glance, it appeared that many of the songs were duplicates, but upon further analysis, I realized that each \"duplicate\" had a unique Spotify ID, making them each their own  unique track. I suspect this is due to the fact that many songs have been released more than once, such as on deluxe versions and \"Taylor's version\"s of album. Additionally, many of the albums have explicit and non-explicit versions, which also adds to the occurance of these \"duplicates\"."
   ]
  },
  {
   "cell_type": "code",
   "execution_count": 183,
   "id": "e5e39ced",
   "metadata": {},
   "outputs": [
    {
     "data": {
      "text/html": [
       "<div>\n",
       "<style scoped>\n",
       "    .dataframe tbody tr th:only-of-type {\n",
       "        vertical-align: middle;\n",
       "    }\n",
       "\n",
       "    .dataframe tbody tr th {\n",
       "        vertical-align: top;\n",
       "    }\n",
       "\n",
       "    .dataframe thead th {\n",
       "        text-align: right;\n",
       "    }\n",
       "</style>\n",
       "<table border=\"1\" class=\"dataframe\">\n",
       "  <thead>\n",
       "    <tr style=\"text-align: right;\">\n",
       "      <th></th>\n",
       "      <th>Unnamed: 0</th>\n",
       "      <th>name</th>\n",
       "      <th>album</th>\n",
       "      <th>release_date</th>\n",
       "      <th>track_number</th>\n",
       "      <th>id</th>\n",
       "      <th>uri</th>\n",
       "      <th>acousticness</th>\n",
       "      <th>danceability</th>\n",
       "      <th>energy</th>\n",
       "      <th>instrumentalness</th>\n",
       "      <th>liveness</th>\n",
       "      <th>loudness</th>\n",
       "      <th>speechiness</th>\n",
       "      <th>tempo</th>\n",
       "      <th>valence</th>\n",
       "      <th>popularity</th>\n",
       "      <th>duration_ms</th>\n",
       "    </tr>\n",
       "  </thead>\n",
       "  <tbody>\n",
       "    <tr>\n",
       "      <th>0</th>\n",
       "      <td>0</td>\n",
       "      <td>Lavender Haze</td>\n",
       "      <td>Midnights (3am Edition)</td>\n",
       "      <td>2022-10-22</td>\n",
       "      <td>1</td>\n",
       "      <td>4g2c7NoTWAOSYDy44l9nub</td>\n",
       "      <td>spotify:track:4g2c7NoTWAOSYDy44l9nub</td>\n",
       "      <td>0.204</td>\n",
       "      <td>0.735</td>\n",
       "      <td>0.444</td>\n",
       "      <td>0.001200</td>\n",
       "      <td>0.170</td>\n",
       "      <td>-10.519</td>\n",
       "      <td>0.0684</td>\n",
       "      <td>97.038</td>\n",
       "      <td>0.0984</td>\n",
       "      <td>76</td>\n",
       "      <td>202395</td>\n",
       "    </tr>\n",
       "    <tr>\n",
       "      <th>20</th>\n",
       "      <td>20</td>\n",
       "      <td>Lavender Haze</td>\n",
       "      <td>Midnights (3am Edition)</td>\n",
       "      <td>2022-10-21</td>\n",
       "      <td>1</td>\n",
       "      <td>2KkIiEt1WIHOYItqkD30kR</td>\n",
       "      <td>spotify:track:2KkIiEt1WIHOYItqkD30kR</td>\n",
       "      <td>0.253</td>\n",
       "      <td>0.735</td>\n",
       "      <td>0.460</td>\n",
       "      <td>0.001670</td>\n",
       "      <td>0.184</td>\n",
       "      <td>-10.501</td>\n",
       "      <td>0.0804</td>\n",
       "      <td>96.962</td>\n",
       "      <td>0.1060</td>\n",
       "      <td>54</td>\n",
       "      <td>202395</td>\n",
       "    </tr>\n",
       "    <tr>\n",
       "      <th>40</th>\n",
       "      <td>40</td>\n",
       "      <td>Lavender Haze</td>\n",
       "      <td>Midnights</td>\n",
       "      <td>2022-10-21</td>\n",
       "      <td>1</td>\n",
       "      <td>5jQI2r1RdgtuT8S3iG8zFC</td>\n",
       "      <td>spotify:track:5jQI2r1RdgtuT8S3iG8zFC</td>\n",
       "      <td>0.258</td>\n",
       "      <td>0.733</td>\n",
       "      <td>0.436</td>\n",
       "      <td>0.000573</td>\n",
       "      <td>0.157</td>\n",
       "      <td>-10.489</td>\n",
       "      <td>0.0800</td>\n",
       "      <td>96.985</td>\n",
       "      <td>0.0976</td>\n",
       "      <td>88</td>\n",
       "      <td>202395</td>\n",
       "    </tr>\n",
       "    <tr>\n",
       "      <th>53</th>\n",
       "      <td>53</td>\n",
       "      <td>Lavender Haze</td>\n",
       "      <td>Midnights</td>\n",
       "      <td>2022-10-21</td>\n",
       "      <td>1</td>\n",
       "      <td>5E36pd9opG8oT1GkKYv7qz</td>\n",
       "      <td>spotify:track:5E36pd9opG8oT1GkKYv7qz</td>\n",
       "      <td>0.253</td>\n",
       "      <td>0.743</td>\n",
       "      <td>0.463</td>\n",
       "      <td>0.000634</td>\n",
       "      <td>0.164</td>\n",
       "      <td>-10.485</td>\n",
       "      <td>0.0782</td>\n",
       "      <td>96.999</td>\n",
       "      <td>0.1010</td>\n",
       "      <td>53</td>\n",
       "      <td>202395</td>\n",
       "    </tr>\n",
       "  </tbody>\n",
       "</table>\n",
       "</div>"
      ],
      "text/plain": [
       "    Unnamed: 0           name                    album release_date  \\\n",
       "0            0  Lavender Haze  Midnights (3am Edition)   2022-10-22   \n",
       "20          20  Lavender Haze  Midnights (3am Edition)   2022-10-21   \n",
       "40          40  Lavender Haze                Midnights   2022-10-21   \n",
       "53          53  Lavender Haze                Midnights   2022-10-21   \n",
       "\n",
       "    track_number                      id  \\\n",
       "0              1  4g2c7NoTWAOSYDy44l9nub   \n",
       "20             1  2KkIiEt1WIHOYItqkD30kR   \n",
       "40             1  5jQI2r1RdgtuT8S3iG8zFC   \n",
       "53             1  5E36pd9opG8oT1GkKYv7qz   \n",
       "\n",
       "                                     uri  acousticness  danceability  energy  \\\n",
       "0   spotify:track:4g2c7NoTWAOSYDy44l9nub         0.204         0.735   0.444   \n",
       "20  spotify:track:2KkIiEt1WIHOYItqkD30kR         0.253         0.735   0.460   \n",
       "40  spotify:track:5jQI2r1RdgtuT8S3iG8zFC         0.258         0.733   0.436   \n",
       "53  spotify:track:5E36pd9opG8oT1GkKYv7qz         0.253         0.743   0.463   \n",
       "\n",
       "    instrumentalness  liveness  loudness  speechiness   tempo  valence  \\\n",
       "0           0.001200     0.170   -10.519       0.0684  97.038   0.0984   \n",
       "20          0.001670     0.184   -10.501       0.0804  96.962   0.1060   \n",
       "40          0.000573     0.157   -10.489       0.0800  96.985   0.0976   \n",
       "53          0.000634     0.164   -10.485       0.0782  96.999   0.1010   \n",
       "\n",
       "    popularity  duration_ms  \n",
       "0           76       202395  \n",
       "20          54       202395  \n",
       "40          88       202395  \n",
       "53          53       202395  "
      ]
     },
     "execution_count": 183,
     "metadata": {},
     "output_type": "execute_result"
    }
   ],
   "source": [
    "lavender_haze  = df[df.name == \"Lavender Haze\"]\n",
    "lavender_haze"
   ]
  },
  {
   "cell_type": "code",
   "execution_count": 184,
   "id": "bdfe55e2",
   "metadata": {},
   "outputs": [
    {
     "data": {
      "text/plain": [
       "0     4g2c7NoTWAOSYDy44l9nub\n",
       "20    2KkIiEt1WIHOYItqkD30kR\n",
       "40    5jQI2r1RdgtuT8S3iG8zFC\n",
       "53    5E36pd9opG8oT1GkKYv7qz\n",
       "Name: id, dtype: object"
      ]
     },
     "execution_count": 184,
     "metadata": {},
     "output_type": "execute_result"
    }
   ],
   "source": [
    "lavender_haze[\"id\"]"
   ]
  },
  {
   "attachments": {},
   "cell_type": "markdown",
   "id": "95182a45",
   "metadata": {},
   "source": [
    "### Section 2: Track Number and Popularity\n",
    "Next, I will divide the songs by album to see if there is a correlation between track number and popularity. I grouped together the different versions (Deluxe, Special Edition, Taylor's Version) of each album."
   ]
  },
  {
   "cell_type": "code",
   "execution_count": 185,
   "id": "96fc0ef8",
   "metadata": {},
   "outputs": [],
   "source": [
    "ts = df[df.album == \"Taylor Swift\"]\n",
    "fearless = df[ (df.album == \"Fearless\") | (df.album == \"Fearless (Taylor's Version)\") | (df.album == \"Fearless Platinum Edition\")]\n",
    "speak_now = df[(df.album == \"Speak Now\") | (df.album == \"Speak Now (Deluxe Edition)\")]\n",
    "red = df[ (df.album == \"Red\") | (df.album == \"Red (Taylor's Version)\") | (df.album == \"Red (Deluxe Edition)\")]\n",
    "ts_1989 = df[(df.album == \"1989\") | (df.album == \"1989 (Deluxe Edition)\") ]\n",
    "reputation = df[ df.album == \"reputation\"]\n",
    "lover = df[df.album == \"Lover\"]\n",
    "folklore = df[ (df.album == \"folklore\") | (df.album == \"folklore (deluxe version)\")]\n",
    "evermore = df[ (df.album == \"evermore\") | (df.album == \"evermore (deluxe version)\")]\n",
    "midnights = df[ (df.album == \"Midnights\") | (df.album == \"Midnights (3am Edition)\")]"
   ]
  },
  {
   "attachments": {},
   "cell_type": "markdown",
   "id": "55b4f300",
   "metadata": {},
   "source": [
    "Below, I have used the .max() to find the most popular track on each album: "
   ]
  },
  {
   "cell_type": "code",
   "execution_count": 186,
   "id": "3c8b49f5",
   "metadata": {},
   "outputs": [
    {
     "data": {
      "text/plain": [
       "72"
      ]
     },
     "execution_count": 186,
     "metadata": {},
     "output_type": "execute_result"
    }
   ],
   "source": [
    "ts[\"popularity\"].max() #find most popular song by finding the max value of popularity"
   ]
  },
  {
   "cell_type": "code",
   "execution_count": 187,
   "id": "7c40b485",
   "metadata": {},
   "outputs": [
    {
     "data": {
      "text/html": [
       "<div>\n",
       "<style scoped>\n",
       "    .dataframe tbody tr th:only-of-type {\n",
       "        vertical-align: middle;\n",
       "    }\n",
       "\n",
       "    .dataframe tbody tr th {\n",
       "        vertical-align: top;\n",
       "    }\n",
       "\n",
       "    .dataframe thead th {\n",
       "        text-align: right;\n",
       "    }\n",
       "</style>\n",
       "<table border=\"1\" class=\"dataframe\">\n",
       "  <thead>\n",
       "    <tr style=\"text-align: right;\">\n",
       "      <th></th>\n",
       "      <th>Unnamed: 0</th>\n",
       "      <th>name</th>\n",
       "      <th>album</th>\n",
       "      <th>release_date</th>\n",
       "      <th>track_number</th>\n",
       "      <th>id</th>\n",
       "      <th>uri</th>\n",
       "      <th>acousticness</th>\n",
       "      <th>danceability</th>\n",
       "      <th>energy</th>\n",
       "      <th>instrumentalness</th>\n",
       "      <th>liveness</th>\n",
       "      <th>loudness</th>\n",
       "      <th>speechiness</th>\n",
       "      <th>tempo</th>\n",
       "      <th>valence</th>\n",
       "      <th>popularity</th>\n",
       "      <th>duration_ms</th>\n",
       "    </tr>\n",
       "  </thead>\n",
       "  <tbody>\n",
       "    <tr>\n",
       "      <th>1202</th>\n",
       "      <td>1202</td>\n",
       "      <td>Our Song</td>\n",
       "      <td>Taylor Swift</td>\n",
       "      <td>2006-10-24</td>\n",
       "      <td>11</td>\n",
       "      <td>15DeqWWQB4dcEWzJg15VrN</td>\n",
       "      <td>spotify:track:15DeqWWQB4dcEWzJg15VrN</td>\n",
       "      <td>0.111</td>\n",
       "      <td>0.668</td>\n",
       "      <td>0.672</td>\n",
       "      <td>0.0</td>\n",
       "      <td>0.329</td>\n",
       "      <td>-4.931</td>\n",
       "      <td>0.0303</td>\n",
       "      <td>89.011</td>\n",
       "      <td>0.539</td>\n",
       "      <td>72</td>\n",
       "      <td>201106</td>\n",
       "    </tr>\n",
       "  </tbody>\n",
       "</table>\n",
       "</div>"
      ],
      "text/plain": [
       "      Unnamed: 0      name         album release_date  track_number  \\\n",
       "1202        1202  Our Song  Taylor Swift   2006-10-24            11   \n",
       "\n",
       "                          id                                   uri  \\\n",
       "1202  15DeqWWQB4dcEWzJg15VrN  spotify:track:15DeqWWQB4dcEWzJg15VrN   \n",
       "\n",
       "      acousticness  danceability  energy  instrumentalness  liveness  \\\n",
       "1202         0.111         0.668   0.672               0.0     0.329   \n",
       "\n",
       "      loudness  speechiness   tempo  valence  popularity  duration_ms  \n",
       "1202    -4.931       0.0303  89.011    0.539          72       201106  "
      ]
     },
     "execution_count": 187,
     "metadata": {},
     "output_type": "execute_result"
    }
   ],
   "source": [
    "ts[ ts[\"popularity\"] == 72] #find most popular track"
   ]
  },
  {
   "attachments": {},
   "cell_type": "markdown",
   "id": "e93ad130",
   "metadata": {},
   "source": [
    "Here, we can see thet the most popular track on Taylor Swift's debut album is track 11"
   ]
  },
  {
   "cell_type": "code",
   "execution_count": 188,
   "id": "f4e1b291",
   "metadata": {},
   "outputs": [
    {
     "data": {
      "text/plain": [
       "81"
      ]
     },
     "execution_count": 188,
     "metadata": {},
     "output_type": "execute_result"
    }
   ],
   "source": [
    "fearless[\"popularity\"].max()"
   ]
  },
  {
   "cell_type": "code",
   "execution_count": 189,
   "id": "29518ba0",
   "metadata": {},
   "outputs": [
    {
     "data": {
      "text/html": [
       "<div>\n",
       "<style scoped>\n",
       "    .dataframe tbody tr th:only-of-type {\n",
       "        vertical-align: middle;\n",
       "    }\n",
       "\n",
       "    .dataframe tbody tr th {\n",
       "        vertical-align: top;\n",
       "    }\n",
       "\n",
       "    .dataframe thead th {\n",
       "        text-align: right;\n",
       "    }\n",
       "</style>\n",
       "<table border=\"1\" class=\"dataframe\">\n",
       "  <thead>\n",
       "    <tr style=\"text-align: right;\">\n",
       "      <th></th>\n",
       "      <th>Unnamed: 0</th>\n",
       "      <th>name</th>\n",
       "      <th>album</th>\n",
       "      <th>release_date</th>\n",
       "      <th>track_number</th>\n",
       "      <th>id</th>\n",
       "      <th>uri</th>\n",
       "      <th>acousticness</th>\n",
       "      <th>danceability</th>\n",
       "      <th>energy</th>\n",
       "      <th>instrumentalness</th>\n",
       "      <th>liveness</th>\n",
       "      <th>loudness</th>\n",
       "      <th>speechiness</th>\n",
       "      <th>tempo</th>\n",
       "      <th>valence</th>\n",
       "      <th>popularity</th>\n",
       "      <th>duration_ms</th>\n",
       "    </tr>\n",
       "  </thead>\n",
       "  <tbody>\n",
       "    <tr>\n",
       "      <th>131</th>\n",
       "      <td>131</td>\n",
       "      <td>You Belong With Me (Taylor’s Version)</td>\n",
       "      <td>Fearless (Taylor's Version)</td>\n",
       "      <td>2021-04-09</td>\n",
       "      <td>6</td>\n",
       "      <td>1qrpoAMXodY6895hGKoUpA</td>\n",
       "      <td>spotify:track:1qrpoAMXodY6895hGKoUpA</td>\n",
       "      <td>0.0623</td>\n",
       "      <td>0.632</td>\n",
       "      <td>0.773</td>\n",
       "      <td>0.0</td>\n",
       "      <td>0.0885</td>\n",
       "      <td>-4.856</td>\n",
       "      <td>0.0346</td>\n",
       "      <td>130.033</td>\n",
       "      <td>0.474</td>\n",
       "      <td>81</td>\n",
       "      <td>231124</td>\n",
       "    </tr>\n",
       "  </tbody>\n",
       "</table>\n",
       "</div>"
      ],
      "text/plain": [
       "     Unnamed: 0                                   name  \\\n",
       "131         131  You Belong With Me (Taylor’s Version)   \n",
       "\n",
       "                           album release_date  track_number  \\\n",
       "131  Fearless (Taylor's Version)   2021-04-09             6   \n",
       "\n",
       "                         id                                   uri  \\\n",
       "131  1qrpoAMXodY6895hGKoUpA  spotify:track:1qrpoAMXodY6895hGKoUpA   \n",
       "\n",
       "     acousticness  danceability  energy  instrumentalness  liveness  loudness  \\\n",
       "131        0.0623         0.632   0.773               0.0    0.0885    -4.856   \n",
       "\n",
       "     speechiness    tempo  valence  popularity  duration_ms  \n",
       "131       0.0346  130.033    0.474          81       231124  "
      ]
     },
     "execution_count": 189,
     "metadata": {},
     "output_type": "execute_result"
    }
   ],
   "source": [
    "fearless[ fearless[\"popularity\"] == 81] #find most popular track"
   ]
  },
  {
   "attachments": {},
   "cell_type": "markdown",
   "id": "aead3bf7",
   "metadata": {},
   "source": [
    "The most popular track on Fearless is track 6"
   ]
  },
  {
   "cell_type": "code",
   "execution_count": 190,
   "id": "1ee93da7",
   "metadata": {},
   "outputs": [
    {
     "data": {
      "text/plain": [
       "77"
      ]
     },
     "execution_count": 190,
     "metadata": {},
     "output_type": "execute_result"
    }
   ],
   "source": [
    "speak_now[\"popularity\"].max()"
   ]
  },
  {
   "cell_type": "code",
   "execution_count": 191,
   "id": "b9e3f335",
   "metadata": {},
   "outputs": [
    {
     "data": {
      "text/html": [
       "<div>\n",
       "<style scoped>\n",
       "    .dataframe tbody tr th:only-of-type {\n",
       "        vertical-align: middle;\n",
       "    }\n",
       "\n",
       "    .dataframe tbody tr th {\n",
       "        vertical-align: top;\n",
       "    }\n",
       "\n",
       "    .dataframe thead th {\n",
       "        text-align: right;\n",
       "    }\n",
       "</style>\n",
       "<table border=\"1\" class=\"dataframe\">\n",
       "  <thead>\n",
       "    <tr style=\"text-align: right;\">\n",
       "      <th></th>\n",
       "      <th>Unnamed: 0</th>\n",
       "      <th>name</th>\n",
       "      <th>album</th>\n",
       "      <th>release_date</th>\n",
       "      <th>track_number</th>\n",
       "      <th>id</th>\n",
       "      <th>uri</th>\n",
       "      <th>acousticness</th>\n",
       "      <th>danceability</th>\n",
       "      <th>energy</th>\n",
       "      <th>instrumentalness</th>\n",
       "      <th>liveness</th>\n",
       "      <th>loudness</th>\n",
       "      <th>speechiness</th>\n",
       "      <th>tempo</th>\n",
       "      <th>valence</th>\n",
       "      <th>popularity</th>\n",
       "      <th>duration_ms</th>\n",
       "    </tr>\n",
       "  </thead>\n",
       "  <tbody>\n",
       "    <tr>\n",
       "      <th>882</th>\n",
       "      <td>882</td>\n",
       "      <td>Enchanted</td>\n",
       "      <td>Speak Now</td>\n",
       "      <td>2010-10-25</td>\n",
       "      <td>9</td>\n",
       "      <td>04S1pkp1VaIqjg8zZqknR5</td>\n",
       "      <td>spotify:track:04S1pkp1VaIqjg8zZqknR5</td>\n",
       "      <td>0.0716</td>\n",
       "      <td>0.535</td>\n",
       "      <td>0.618</td>\n",
       "      <td>0.000388</td>\n",
       "      <td>0.169</td>\n",
       "      <td>-3.913</td>\n",
       "      <td>0.0273</td>\n",
       "      <td>81.975</td>\n",
       "      <td>0.228</td>\n",
       "      <td>77</td>\n",
       "      <td>352200</td>\n",
       "    </tr>\n",
       "  </tbody>\n",
       "</table>\n",
       "</div>"
      ],
      "text/plain": [
       "     Unnamed: 0       name      album release_date  track_number  \\\n",
       "882         882  Enchanted  Speak Now   2010-10-25             9   \n",
       "\n",
       "                         id                                   uri  \\\n",
       "882  04S1pkp1VaIqjg8zZqknR5  spotify:track:04S1pkp1VaIqjg8zZqknR5   \n",
       "\n",
       "     acousticness  danceability  energy  instrumentalness  liveness  loudness  \\\n",
       "882        0.0716         0.535   0.618          0.000388     0.169    -3.913   \n",
       "\n",
       "     speechiness   tempo  valence  popularity  duration_ms  \n",
       "882       0.0273  81.975    0.228          77       352200  "
      ]
     },
     "execution_count": 191,
     "metadata": {},
     "output_type": "execute_result"
    }
   ],
   "source": [
    "speak_now[ speak_now[\"popularity\"] == 77] #find most popular track"
   ]
  },
  {
   "attachments": {},
   "cell_type": "markdown",
   "id": "1de9f990",
   "metadata": {},
   "source": [
    "The most popular track on Speak Now is track 9"
   ]
  },
  {
   "cell_type": "code",
   "execution_count": 192,
   "id": "676a186b",
   "metadata": {},
   "outputs": [
    {
     "data": {
      "text/plain": [
       "83"
      ]
     },
     "execution_count": 192,
     "metadata": {},
     "output_type": "execute_result"
    }
   ],
   "source": [
    "red[\"popularity\"].max()"
   ]
  },
  {
   "cell_type": "code",
   "execution_count": 193,
   "id": "5115da1f",
   "metadata": {},
   "outputs": [
    {
     "data": {
      "text/html": [
       "<div>\n",
       "<style scoped>\n",
       "    .dataframe tbody tr th:only-of-type {\n",
       "        vertical-align: middle;\n",
       "    }\n",
       "\n",
       "    .dataframe tbody tr th {\n",
       "        vertical-align: top;\n",
       "    }\n",
       "\n",
       "    .dataframe thead th {\n",
       "        text-align: right;\n",
       "    }\n",
       "</style>\n",
       "<table border=\"1\" class=\"dataframe\">\n",
       "  <thead>\n",
       "    <tr style=\"text-align: right;\">\n",
       "      <th></th>\n",
       "      <th>Unnamed: 0</th>\n",
       "      <th>name</th>\n",
       "      <th>album</th>\n",
       "      <th>release_date</th>\n",
       "      <th>track_number</th>\n",
       "      <th>id</th>\n",
       "      <th>uri</th>\n",
       "      <th>acousticness</th>\n",
       "      <th>danceability</th>\n",
       "      <th>energy</th>\n",
       "      <th>instrumentalness</th>\n",
       "      <th>liveness</th>\n",
       "      <th>loudness</th>\n",
       "      <th>speechiness</th>\n",
       "      <th>tempo</th>\n",
       "      <th>valence</th>\n",
       "      <th>popularity</th>\n",
       "      <th>duration_ms</th>\n",
       "    </tr>\n",
       "  </thead>\n",
       "  <tbody>\n",
       "    <tr>\n",
       "      <th>95</th>\n",
       "      <td>95</td>\n",
       "      <td>All Too Well (10 Minute Version) (Taylor's Ver...</td>\n",
       "      <td>Red (Taylor's Version)</td>\n",
       "      <td>2021-11-12</td>\n",
       "      <td>30</td>\n",
       "      <td>5enxwA8aAbwZbf5qCHORXi</td>\n",
       "      <td>spotify:track:5enxwA8aAbwZbf5qCHORXi</td>\n",
       "      <td>0.274</td>\n",
       "      <td>0.631</td>\n",
       "      <td>0.518</td>\n",
       "      <td>0.0</td>\n",
       "      <td>0.088</td>\n",
       "      <td>-8.771</td>\n",
       "      <td>0.0303</td>\n",
       "      <td>93.023</td>\n",
       "      <td>0.205</td>\n",
       "      <td>83</td>\n",
       "      <td>613026</td>\n",
       "    </tr>\n",
       "  </tbody>\n",
       "</table>\n",
       "</div>"
      ],
      "text/plain": [
       "    Unnamed: 0                                               name  \\\n",
       "95          95  All Too Well (10 Minute Version) (Taylor's Ver...   \n",
       "\n",
       "                     album release_date  track_number                      id  \\\n",
       "95  Red (Taylor's Version)   2021-11-12            30  5enxwA8aAbwZbf5qCHORXi   \n",
       "\n",
       "                                     uri  acousticness  danceability  energy  \\\n",
       "95  spotify:track:5enxwA8aAbwZbf5qCHORXi         0.274         0.631   0.518   \n",
       "\n",
       "    instrumentalness  liveness  loudness  speechiness   tempo  valence  \\\n",
       "95               0.0     0.088    -8.771       0.0303  93.023    0.205   \n",
       "\n",
       "    popularity  duration_ms  \n",
       "95          83       613026  "
      ]
     },
     "execution_count": 193,
     "metadata": {},
     "output_type": "execute_result"
    }
   ],
   "source": [
    "red[ red[\"popularity\"] == 83] #find most popular track"
   ]
  },
  {
   "attachments": {},
   "cell_type": "markdown",
   "id": "3e12d195",
   "metadata": {},
   "source": [
    "The most popular track on Red is track 30"
   ]
  },
  {
   "cell_type": "code",
   "execution_count": 194,
   "id": "1d52dcf2",
   "metadata": {},
   "outputs": [
    {
     "data": {
      "text/plain": [
       "79"
      ]
     },
     "execution_count": 194,
     "metadata": {},
     "output_type": "execute_result"
    }
   ],
   "source": [
    "ts_1989[\"popularity\"].max()"
   ]
  },
  {
   "cell_type": "code",
   "execution_count": 195,
   "id": "e0842166",
   "metadata": {},
   "outputs": [
    {
     "data": {
      "text/html": [
       "<div>\n",
       "<style scoped>\n",
       "    .dataframe tbody tr th:only-of-type {\n",
       "        vertical-align: middle;\n",
       "    }\n",
       "\n",
       "    .dataframe tbody tr th {\n",
       "        vertical-align: top;\n",
       "    }\n",
       "\n",
       "    .dataframe thead th {\n",
       "        text-align: right;\n",
       "    }\n",
       "</style>\n",
       "<table border=\"1\" class=\"dataframe\">\n",
       "  <thead>\n",
       "    <tr style=\"text-align: right;\">\n",
       "      <th></th>\n",
       "      <th>Unnamed: 0</th>\n",
       "      <th>name</th>\n",
       "      <th>album</th>\n",
       "      <th>release_date</th>\n",
       "      <th>track_number</th>\n",
       "      <th>id</th>\n",
       "      <th>uri</th>\n",
       "      <th>acousticness</th>\n",
       "      <th>danceability</th>\n",
       "      <th>energy</th>\n",
       "      <th>instrumentalness</th>\n",
       "      <th>liveness</th>\n",
       "      <th>loudness</th>\n",
       "      <th>speechiness</th>\n",
       "      <th>tempo</th>\n",
       "      <th>valence</th>\n",
       "      <th>popularity</th>\n",
       "      <th>duration_ms</th>\n",
       "    </tr>\n",
       "  </thead>\n",
       "  <tbody>\n",
       "    <tr>\n",
       "      <th>664</th>\n",
       "      <td>664</td>\n",
       "      <td>Wildest Dreams</td>\n",
       "      <td>1989</td>\n",
       "      <td>2014-01-01</td>\n",
       "      <td>9</td>\n",
       "      <td>3fVnlF4pGqWI9flVENcT28</td>\n",
       "      <td>spotify:track:3fVnlF4pGqWI9flVENcT28</td>\n",
       "      <td>0.0709</td>\n",
       "      <td>0.553</td>\n",
       "      <td>0.664</td>\n",
       "      <td>0.0056</td>\n",
       "      <td>0.106</td>\n",
       "      <td>-7.417</td>\n",
       "      <td>0.0741</td>\n",
       "      <td>140.06</td>\n",
       "      <td>0.467</td>\n",
       "      <td>79</td>\n",
       "      <td>220440</td>\n",
       "    </tr>\n",
       "  </tbody>\n",
       "</table>\n",
       "</div>"
      ],
      "text/plain": [
       "     Unnamed: 0            name album release_date  track_number  \\\n",
       "664         664  Wildest Dreams  1989   2014-01-01             9   \n",
       "\n",
       "                         id                                   uri  \\\n",
       "664  3fVnlF4pGqWI9flVENcT28  spotify:track:3fVnlF4pGqWI9flVENcT28   \n",
       "\n",
       "     acousticness  danceability  energy  instrumentalness  liveness  loudness  \\\n",
       "664        0.0709         0.553   0.664            0.0056     0.106    -7.417   \n",
       "\n",
       "     speechiness   tempo  valence  popularity  duration_ms  \n",
       "664       0.0741  140.06    0.467          79       220440  "
      ]
     },
     "execution_count": 195,
     "metadata": {},
     "output_type": "execute_result"
    }
   ],
   "source": [
    "ts_1989[ ts_1989[\"popularity\"] == 79] #find most popular track"
   ]
  },
  {
   "attachments": {},
   "cell_type": "markdown",
   "id": "c8d0d483",
   "metadata": {},
   "source": [
    "The most popular track on 1989 is track 9"
   ]
  },
  {
   "cell_type": "code",
   "execution_count": 196,
   "id": "50f219df",
   "metadata": {},
   "outputs": [
    {
     "data": {
      "text/plain": [
       "87"
      ]
     },
     "execution_count": 196,
     "metadata": {},
     "output_type": "execute_result"
    }
   ],
   "source": [
    "reputation[\"popularity\"].max()"
   ]
  },
  {
   "cell_type": "code",
   "execution_count": 197,
   "id": "493f9651",
   "metadata": {},
   "outputs": [
    {
     "data": {
      "text/html": [
       "<div>\n",
       "<style scoped>\n",
       "    .dataframe tbody tr th:only-of-type {\n",
       "        vertical-align: middle;\n",
       "    }\n",
       "\n",
       "    .dataframe tbody tr th {\n",
       "        vertical-align: top;\n",
       "    }\n",
       "\n",
       "    .dataframe thead th {\n",
       "        text-align: right;\n",
       "    }\n",
       "</style>\n",
       "<table border=\"1\" class=\"dataframe\">\n",
       "  <thead>\n",
       "    <tr style=\"text-align: right;\">\n",
       "      <th></th>\n",
       "      <th>Unnamed: 0</th>\n",
       "      <th>name</th>\n",
       "      <th>album</th>\n",
       "      <th>release_date</th>\n",
       "      <th>track_number</th>\n",
       "      <th>id</th>\n",
       "      <th>uri</th>\n",
       "      <th>acousticness</th>\n",
       "      <th>danceability</th>\n",
       "      <th>energy</th>\n",
       "      <th>instrumentalness</th>\n",
       "      <th>liveness</th>\n",
       "      <th>loudness</th>\n",
       "      <th>speechiness</th>\n",
       "      <th>tempo</th>\n",
       "      <th>valence</th>\n",
       "      <th>popularity</th>\n",
       "      <th>duration_ms</th>\n",
       "    </tr>\n",
       "  </thead>\n",
       "  <tbody>\n",
       "    <tr>\n",
       "      <th>401</th>\n",
       "      <td>401</td>\n",
       "      <td>Don’t Blame Me</td>\n",
       "      <td>reputation</td>\n",
       "      <td>2017-11-10</td>\n",
       "      <td>4</td>\n",
       "      <td>1R0a2iXumgCiFb7HEZ7gUE</td>\n",
       "      <td>spotify:track:1R0a2iXumgCiFb7HEZ7gUE</td>\n",
       "      <td>0.106</td>\n",
       "      <td>0.615</td>\n",
       "      <td>0.534</td>\n",
       "      <td>0.000018</td>\n",
       "      <td>0.0607</td>\n",
       "      <td>-6.719</td>\n",
       "      <td>0.0386</td>\n",
       "      <td>135.917</td>\n",
       "      <td>0.193</td>\n",
       "      <td>87</td>\n",
       "      <td>236413</td>\n",
       "    </tr>\n",
       "  </tbody>\n",
       "</table>\n",
       "</div>"
      ],
      "text/plain": [
       "     Unnamed: 0            name       album release_date  track_number  \\\n",
       "401         401  Don’t Blame Me  reputation   2017-11-10             4   \n",
       "\n",
       "                         id                                   uri  \\\n",
       "401  1R0a2iXumgCiFb7HEZ7gUE  spotify:track:1R0a2iXumgCiFb7HEZ7gUE   \n",
       "\n",
       "     acousticness  danceability  energy  instrumentalness  liveness  loudness  \\\n",
       "401         0.106         0.615   0.534          0.000018    0.0607    -6.719   \n",
       "\n",
       "     speechiness    tempo  valence  popularity  duration_ms  \n",
       "401       0.0386  135.917    0.193          87       236413  "
      ]
     },
     "execution_count": 197,
     "metadata": {},
     "output_type": "execute_result"
    }
   ],
   "source": [
    "reputation[ reputation[\"popularity\"] == 87] #find most popular track"
   ]
  },
  {
   "attachments": {},
   "cell_type": "markdown",
   "id": "1439061c",
   "metadata": {},
   "source": [
    "The most popular track on reputation is track 4"
   ]
  },
  {
   "cell_type": "code",
   "execution_count": 198,
   "id": "054fa9f4",
   "metadata": {},
   "outputs": [
    {
     "data": {
      "text/plain": [
       "86"
      ]
     },
     "execution_count": 198,
     "metadata": {},
     "output_type": "execute_result"
    }
   ],
   "source": [
    "lover[\"popularity\"].max()"
   ]
  },
  {
   "cell_type": "code",
   "execution_count": 199,
   "id": "c3995c3d",
   "metadata": {},
   "outputs": [
    {
     "data": {
      "text/html": [
       "<div>\n",
       "<style scoped>\n",
       "    .dataframe tbody tr th:only-of-type {\n",
       "        vertical-align: middle;\n",
       "    }\n",
       "\n",
       "    .dataframe tbody tr th {\n",
       "        vertical-align: top;\n",
       "    }\n",
       "\n",
       "    .dataframe thead th {\n",
       "        text-align: right;\n",
       "    }\n",
       "</style>\n",
       "<table border=\"1\" class=\"dataframe\">\n",
       "  <thead>\n",
       "    <tr style=\"text-align: right;\">\n",
       "      <th></th>\n",
       "      <th>Unnamed: 0</th>\n",
       "      <th>name</th>\n",
       "      <th>album</th>\n",
       "      <th>release_date</th>\n",
       "      <th>track_number</th>\n",
       "      <th>id</th>\n",
       "      <th>uri</th>\n",
       "      <th>acousticness</th>\n",
       "      <th>danceability</th>\n",
       "      <th>energy</th>\n",
       "      <th>instrumentalness</th>\n",
       "      <th>liveness</th>\n",
       "      <th>loudness</th>\n",
       "      <th>speechiness</th>\n",
       "      <th>tempo</th>\n",
       "      <th>valence</th>\n",
       "      <th>popularity</th>\n",
       "      <th>duration_ms</th>\n",
       "    </tr>\n",
       "  </thead>\n",
       "  <tbody>\n",
       "    <tr>\n",
       "      <th>366</th>\n",
       "      <td>366</td>\n",
       "      <td>Cruel Summer</td>\n",
       "      <td>Lover</td>\n",
       "      <td>2019-08-23</td>\n",
       "      <td>2</td>\n",
       "      <td>1BxfuPKGuaTgP7aM0Bbdwr</td>\n",
       "      <td>spotify:track:1BxfuPKGuaTgP7aM0Bbdwr</td>\n",
       "      <td>0.117</td>\n",
       "      <td>0.552</td>\n",
       "      <td>0.702</td>\n",
       "      <td>0.000021</td>\n",
       "      <td>0.105</td>\n",
       "      <td>-5.707</td>\n",
       "      <td>0.157</td>\n",
       "      <td>169.994</td>\n",
       "      <td>0.564</td>\n",
       "      <td>86</td>\n",
       "      <td>178426</td>\n",
       "    </tr>\n",
       "  </tbody>\n",
       "</table>\n",
       "</div>"
      ],
      "text/plain": [
       "     Unnamed: 0          name  album release_date  track_number  \\\n",
       "366         366  Cruel Summer  Lover   2019-08-23             2   \n",
       "\n",
       "                         id                                   uri  \\\n",
       "366  1BxfuPKGuaTgP7aM0Bbdwr  spotify:track:1BxfuPKGuaTgP7aM0Bbdwr   \n",
       "\n",
       "     acousticness  danceability  energy  instrumentalness  liveness  loudness  \\\n",
       "366         0.117         0.552   0.702          0.000021     0.105    -5.707   \n",
       "\n",
       "     speechiness    tempo  valence  popularity  duration_ms  \n",
       "366        0.157  169.994    0.564          86       178426  "
      ]
     },
     "execution_count": 199,
     "metadata": {},
     "output_type": "execute_result"
    }
   ],
   "source": [
    "lover[ lover[\"popularity\"] == 86] #find most popular track"
   ]
  },
  {
   "attachments": {},
   "cell_type": "markdown",
   "id": "009e3cd3",
   "metadata": {},
   "source": [
    "The most popular track on Lover is track 2"
   ]
  },
  {
   "cell_type": "code",
   "execution_count": 200,
   "id": "2a6ca2c0",
   "metadata": {},
   "outputs": [
    {
     "data": {
      "text/plain": [
       "86"
      ]
     },
     "execution_count": 200,
     "metadata": {},
     "output_type": "execute_result"
    }
   ],
   "source": [
    "folklore[\"popularity\"].max()"
   ]
  },
  {
   "cell_type": "code",
   "execution_count": 201,
   "id": "28653698",
   "metadata": {},
   "outputs": [
    {
     "data": {
      "text/html": [
       "<div>\n",
       "<style scoped>\n",
       "    .dataframe tbody tr th:only-of-type {\n",
       "        vertical-align: middle;\n",
       "    }\n",
       "\n",
       "    .dataframe tbody tr th {\n",
       "        vertical-align: top;\n",
       "    }\n",
       "\n",
       "    .dataframe thead th {\n",
       "        text-align: right;\n",
       "    }\n",
       "</style>\n",
       "<table border=\"1\" class=\"dataframe\">\n",
       "  <thead>\n",
       "    <tr style=\"text-align: right;\">\n",
       "      <th></th>\n",
       "      <th>Unnamed: 0</th>\n",
       "      <th>name</th>\n",
       "      <th>album</th>\n",
       "      <th>release_date</th>\n",
       "      <th>track_number</th>\n",
       "      <th>id</th>\n",
       "      <th>uri</th>\n",
       "      <th>acousticness</th>\n",
       "      <th>danceability</th>\n",
       "      <th>energy</th>\n",
       "      <th>instrumentalness</th>\n",
       "      <th>liveness</th>\n",
       "      <th>loudness</th>\n",
       "      <th>speechiness</th>\n",
       "      <th>tempo</th>\n",
       "      <th>valence</th>\n",
       "      <th>popularity</th>\n",
       "      <th>duration_ms</th>\n",
       "    </tr>\n",
       "  </thead>\n",
       "  <tbody>\n",
       "    <tr>\n",
       "      <th>334</th>\n",
       "      <td>334</td>\n",
       "      <td>cardigan</td>\n",
       "      <td>folklore</td>\n",
       "      <td>2020-07-24</td>\n",
       "      <td>2</td>\n",
       "      <td>4R2kfaDFhslZEMJqAFNpdd</td>\n",
       "      <td>spotify:track:4R2kfaDFhslZEMJqAFNpdd</td>\n",
       "      <td>0.537</td>\n",
       "      <td>0.613</td>\n",
       "      <td>0.581</td>\n",
       "      <td>0.000345</td>\n",
       "      <td>0.25</td>\n",
       "      <td>-8.588</td>\n",
       "      <td>0.0424</td>\n",
       "      <td>130.033</td>\n",
       "      <td>0.551</td>\n",
       "      <td>86</td>\n",
       "      <td>239560</td>\n",
       "    </tr>\n",
       "  </tbody>\n",
       "</table>\n",
       "</div>"
      ],
      "text/plain": [
       "     Unnamed: 0      name     album release_date  track_number  \\\n",
       "334         334  cardigan  folklore   2020-07-24             2   \n",
       "\n",
       "                         id                                   uri  \\\n",
       "334  4R2kfaDFhslZEMJqAFNpdd  spotify:track:4R2kfaDFhslZEMJqAFNpdd   \n",
       "\n",
       "     acousticness  danceability  energy  instrumentalness  liveness  loudness  \\\n",
       "334         0.537         0.613   0.581          0.000345      0.25    -8.588   \n",
       "\n",
       "     speechiness    tempo  valence  popularity  duration_ms  \n",
       "334       0.0424  130.033    0.551          86       239560  "
      ]
     },
     "execution_count": 201,
     "metadata": {},
     "output_type": "execute_result"
    }
   ],
   "source": [
    "folklore[ folklore[\"popularity\"] == 86] #find most popular track"
   ]
  },
  {
   "attachments": {},
   "cell_type": "markdown",
   "id": "673c11be",
   "metadata": {},
   "source": [
    "The most popular track on folklore is track 2"
   ]
  },
  {
   "cell_type": "code",
   "execution_count": 202,
   "id": "41ccc813",
   "metadata": {},
   "outputs": [
    {
     "data": {
      "text/plain": [
       "79"
      ]
     },
     "execution_count": 202,
     "metadata": {},
     "output_type": "execute_result"
    }
   ],
   "source": [
    "evermore[\"popularity\"].max()"
   ]
  },
  {
   "cell_type": "code",
   "execution_count": 203,
   "id": "913240ad",
   "metadata": {},
   "outputs": [
    {
     "data": {
      "text/html": [
       "<div>\n",
       "<style scoped>\n",
       "    .dataframe tbody tr th:only-of-type {\n",
       "        vertical-align: middle;\n",
       "    }\n",
       "\n",
       "    .dataframe tbody tr th {\n",
       "        vertical-align: top;\n",
       "    }\n",
       "\n",
       "    .dataframe thead th {\n",
       "        text-align: right;\n",
       "    }\n",
       "</style>\n",
       "<table border=\"1\" class=\"dataframe\">\n",
       "  <thead>\n",
       "    <tr style=\"text-align: right;\">\n",
       "      <th></th>\n",
       "      <th>Unnamed: 0</th>\n",
       "      <th>name</th>\n",
       "      <th>album</th>\n",
       "      <th>release_date</th>\n",
       "      <th>track_number</th>\n",
       "      <th>id</th>\n",
       "      <th>uri</th>\n",
       "      <th>acousticness</th>\n",
       "      <th>danceability</th>\n",
       "      <th>energy</th>\n",
       "      <th>instrumentalness</th>\n",
       "      <th>liveness</th>\n",
       "      <th>loudness</th>\n",
       "      <th>speechiness</th>\n",
       "      <th>tempo</th>\n",
       "      <th>valence</th>\n",
       "      <th>popularity</th>\n",
       "      <th>duration_ms</th>\n",
       "    </tr>\n",
       "  </thead>\n",
       "  <tbody>\n",
       "    <tr>\n",
       "      <th>186</th>\n",
       "      <td>186</td>\n",
       "      <td>willow</td>\n",
       "      <td>evermore</td>\n",
       "      <td>2020-12-11</td>\n",
       "      <td>1</td>\n",
       "      <td>0lx2cLdOt3piJbcaXIV74f</td>\n",
       "      <td>spotify:track:0lx2cLdOt3piJbcaXIV74f</td>\n",
       "      <td>0.833</td>\n",
       "      <td>0.392</td>\n",
       "      <td>0.574</td>\n",
       "      <td>0.00179</td>\n",
       "      <td>0.145</td>\n",
       "      <td>-9.195</td>\n",
       "      <td>0.1700</td>\n",
       "      <td>81.112</td>\n",
       "      <td>0.529</td>\n",
       "      <td>79</td>\n",
       "      <td>214706</td>\n",
       "    </tr>\n",
       "    <tr>\n",
       "      <th>187</th>\n",
       "      <td>187</td>\n",
       "      <td>champagne problems</td>\n",
       "      <td>evermore</td>\n",
       "      <td>2020-12-11</td>\n",
       "      <td>2</td>\n",
       "      <td>0sY6ZUTh4yoctD8VIXz339</td>\n",
       "      <td>spotify:track:0sY6ZUTh4yoctD8VIXz339</td>\n",
       "      <td>0.920</td>\n",
       "      <td>0.462</td>\n",
       "      <td>0.240</td>\n",
       "      <td>0.00000</td>\n",
       "      <td>0.113</td>\n",
       "      <td>-12.077</td>\n",
       "      <td>0.0377</td>\n",
       "      <td>171.319</td>\n",
       "      <td>0.320</td>\n",
       "      <td>79</td>\n",
       "      <td>244000</td>\n",
       "    </tr>\n",
       "  </tbody>\n",
       "</table>\n",
       "</div>"
      ],
      "text/plain": [
       "     Unnamed: 0                name     album release_date  track_number  \\\n",
       "186         186              willow  evermore   2020-12-11             1   \n",
       "187         187  champagne problems  evermore   2020-12-11             2   \n",
       "\n",
       "                         id                                   uri  \\\n",
       "186  0lx2cLdOt3piJbcaXIV74f  spotify:track:0lx2cLdOt3piJbcaXIV74f   \n",
       "187  0sY6ZUTh4yoctD8VIXz339  spotify:track:0sY6ZUTh4yoctD8VIXz339   \n",
       "\n",
       "     acousticness  danceability  energy  instrumentalness  liveness  loudness  \\\n",
       "186         0.833         0.392   0.574           0.00179     0.145    -9.195   \n",
       "187         0.920         0.462   0.240           0.00000     0.113   -12.077   \n",
       "\n",
       "     speechiness    tempo  valence  popularity  duration_ms  \n",
       "186       0.1700   81.112    0.529          79       214706  \n",
       "187       0.0377  171.319    0.320          79       244000  "
      ]
     },
     "execution_count": 203,
     "metadata": {},
     "output_type": "execute_result"
    }
   ],
   "source": [
    "evermore[ evermore[\"popularity\"] == 79] #find most popular track"
   ]
  },
  {
   "attachments": {},
   "cell_type": "markdown",
   "id": "1b665b68",
   "metadata": {},
   "source": [
    "The most popular tracks on evermore are tracks 1 and 2"
   ]
  },
  {
   "cell_type": "code",
   "execution_count": 204,
   "id": "7e38a18e",
   "metadata": {},
   "outputs": [
    {
     "data": {
      "text/plain": [
       "94"
      ]
     },
     "execution_count": 204,
     "metadata": {},
     "output_type": "execute_result"
    }
   ],
   "source": [
    "midnights[\"popularity\"].max()"
   ]
  },
  {
   "cell_type": "code",
   "execution_count": 205,
   "id": "e869b79e",
   "metadata": {},
   "outputs": [
    {
     "data": {
      "text/html": [
       "<div>\n",
       "<style scoped>\n",
       "    .dataframe tbody tr th:only-of-type {\n",
       "        vertical-align: middle;\n",
       "    }\n",
       "\n",
       "    .dataframe tbody tr th {\n",
       "        vertical-align: top;\n",
       "    }\n",
       "\n",
       "    .dataframe thead th {\n",
       "        text-align: right;\n",
       "    }\n",
       "</style>\n",
       "<table border=\"1\" class=\"dataframe\">\n",
       "  <thead>\n",
       "    <tr style=\"text-align: right;\">\n",
       "      <th></th>\n",
       "      <th>Unnamed: 0</th>\n",
       "      <th>name</th>\n",
       "      <th>album</th>\n",
       "      <th>release_date</th>\n",
       "      <th>track_number</th>\n",
       "      <th>id</th>\n",
       "      <th>uri</th>\n",
       "      <th>acousticness</th>\n",
       "      <th>danceability</th>\n",
       "      <th>energy</th>\n",
       "      <th>instrumentalness</th>\n",
       "      <th>liveness</th>\n",
       "      <th>loudness</th>\n",
       "      <th>speechiness</th>\n",
       "      <th>tempo</th>\n",
       "      <th>valence</th>\n",
       "      <th>popularity</th>\n",
       "      <th>duration_ms</th>\n",
       "    </tr>\n",
       "  </thead>\n",
       "  <tbody>\n",
       "    <tr>\n",
       "      <th>42</th>\n",
       "      <td>42</td>\n",
       "      <td>Anti-Hero</td>\n",
       "      <td>Midnights</td>\n",
       "      <td>2022-10-21</td>\n",
       "      <td>3</td>\n",
       "      <td>0V3wPSX9ygBnCm8psDIegu</td>\n",
       "      <td>spotify:track:0V3wPSX9ygBnCm8psDIegu</td>\n",
       "      <td>0.13</td>\n",
       "      <td>0.637</td>\n",
       "      <td>0.643</td>\n",
       "      <td>0.000002</td>\n",
       "      <td>0.142</td>\n",
       "      <td>-6.571</td>\n",
       "      <td>0.0519</td>\n",
       "      <td>97.008</td>\n",
       "      <td>0.533</td>\n",
       "      <td>94</td>\n",
       "      <td>200690</td>\n",
       "    </tr>\n",
       "  </tbody>\n",
       "</table>\n",
       "</div>"
      ],
      "text/plain": [
       "    Unnamed: 0       name      album release_date  track_number  \\\n",
       "42          42  Anti-Hero  Midnights   2022-10-21             3   \n",
       "\n",
       "                        id                                   uri  \\\n",
       "42  0V3wPSX9ygBnCm8psDIegu  spotify:track:0V3wPSX9ygBnCm8psDIegu   \n",
       "\n",
       "    acousticness  danceability  energy  instrumentalness  liveness  loudness  \\\n",
       "42          0.13         0.637   0.643          0.000002     0.142    -6.571   \n",
       "\n",
       "    speechiness   tempo  valence  popularity  duration_ms  \n",
       "42       0.0519  97.008    0.533          94       200690  "
      ]
     },
     "execution_count": 205,
     "metadata": {},
     "output_type": "execute_result"
    }
   ],
   "source": [
    "midnights[ midnights[\"popularity\"] == 94] #find most popular track"
   ]
  },
  {
   "attachments": {},
   "cell_type": "markdown",
   "id": "756163dc",
   "metadata": {},
   "source": [
    "The most popular track on Midnights is track 1"
   ]
  },
  {
   "attachments": {},
   "cell_type": "markdown",
   "id": "47af0d0c",
   "metadata": {},
   "source": [
    "From this analysis we can see that the most popular track is typically track 2 (is the most popular in 3/10 of the albums), followed by track 9 (is the most popular in 2/10 of the albums.)"
   ]
  },
  {
   "attachments": {},
   "cell_type": "markdown",
   "id": "bdb92f85",
   "metadata": {},
   "source": [
    "### Section 3: Danceability and Energy Plots\n",
    "Below I created plots for each album to visualize the relationship between danceability and energy and see how these vary from album to album:"
   ]
  },
  {
   "cell_type": "code",
   "execution_count": 206,
   "id": "4e515bdb",
   "metadata": {},
   "outputs": [
    {
     "data": {
      "text/plain": [
       "<AxesSubplot:xlabel='danceability', ylabel='energy'>"
      ]
     },
     "execution_count": 206,
     "metadata": {},
     "output_type": "execute_result"
    },
    {
     "data": {
      "image/png": "[encoded data removed]",
      "text/plain": [
       "<Figure size 640x480 with 1 Axes>"
      ]
     },
     "metadata": {},
     "output_type": "display_data"
    },
    {
     "data": {
      "image/png": "[encoded data removed]",
      "text/plain": [
       "<Figure size 640x480 with 1 Axes>"
      ]
     },
     "metadata": {},
     "output_type": "display_data"
    },
    {
     "data": {
      "image/png": "[encoded data removed]",
      "text/plain": [
       "<Figure size 640x480 with 1 Axes>"
      ]
     },
     "metadata": {},
     "output_type": "display_data"
    },
    {
     "data": {
      "image/png": "[encoded data removed]",
      "text/plain": [
       "<Figure size 640x480 with 1 Axes>"
      ]
     },
     "metadata": {},
     "output_type": "display_data"
    },
    {
     "data": {
      "image/png": "[encoded data removed]",
      "text/plain": [
       "<Figure size 640x480 with 1 Axes>"
      ]
     },
     "metadata": {},
     "output_type": "display_data"
    },
    {
     "data": {
      "image/png": "[encoded data removed]",
      "text/plain": [
       "<Figure size 640x480 with 1 Axes>"
      ]
     },
     "metadata": {},
     "output_type": "display_data"
    },
    {
     "data": {
      "image/png": "[encoded data removed]",
      "text/plain": [
       "<Figure size 640x480 with 1 Axes>"
      ]
     },
     "metadata": {},
     "output_type": "display_data"
    },
    {
     "data": {
      "image/png": "[encoded data removed]",
      "text/plain": [
       "<Figure size 640x480 with 1 Axes>"
      ]
     },
     "metadata": {},
     "output_type": "display_data"
    },
    {
     "data": {
      "image/png": "[encoded data removed]",
      "text/plain": [
       "<Figure size 640x480 with 1 Axes>"
      ]
     },
     "metadata": {},
     "output_type": "display_data"
    },
    {
     "data": {
      "image/png": "[encoded data removed]",
      "text/plain": [
       "<Figure size 640x480 with 1 Axes>"
      ]
     },
     "metadata": {},
     "output_type": "display_data"
    }
   ],
   "source": [
    "ts.plot.scatter(\"danceability\", \"energy\", c = \"green\")\n",
    "fearless.plot.scatter(\"danceability\", \"energy\", c =\"#FFC125\")\n",
    "speak_now.plot.scatter(\"danceability\", \"energy\", c = \"#BF3EFF\")\n",
    "red.plot.scatter(\"danceability\", \"energy\", c = \"red\")\n",
    "ts_1989.plot.scatter(\"danceability\", \"energy\", c = \"#87CEFF\")\n",
    "reputation.plot.scatter(\"danceability\", \"energy\", c = \"black\")\n",
    "lover.plot.scatter(\"danceability\", \"energy\", c = \"pink\")\n",
    "folklore.plot.scatter(\"danceability\", \"energy\", c = \"#A1A1A1\")\n",
    "evermore.plot.scatter(\"danceability\", \"energy\", c = \"#CD661D\")\n",
    "midnights.plot.scatter(\"danceability\", \"energy\", c = \"#191970\")"
   ]
  },
  {
   "attachments": {},
   "cell_type": "markdown",
   "id": "4e75c1c6",
   "metadata": {},
   "source": [
    "### Section 4: Predictions Using Linear Regression\n",
    "Finally, I used linear regression to see how accurately a song's danceability could be predicted based off its energy and loudness. I also implemented linear regression to see how accuartely popularity could be predicted by tempo and duration"
   ]
  },
  {
   "cell_type": "code",
   "execution_count": 207,
   "id": "e33fa8ef",
   "metadata": {},
   "outputs": [
    {
     "data": {
      "text/html": [
       "<div>\n",
       "<style scoped>\n",
       "    .dataframe tbody tr th:only-of-type {\n",
       "        vertical-align: middle;\n",
       "    }\n",
       "\n",
       "    .dataframe tbody tr th {\n",
       "        vertical-align: top;\n",
       "    }\n",
       "\n",
       "    .dataframe thead th {\n",
       "        text-align: right;\n",
       "    }\n",
       "</style>\n",
       "<table border=\"1\" class=\"dataframe\">\n",
       "  <thead>\n",
       "    <tr style=\"text-align: right;\">\n",
       "      <th></th>\n",
       "      <th>name</th>\n",
       "      <th>loudness</th>\n",
       "      <th>energy</th>\n",
       "      <th>danceability</th>\n",
       "      <th>predicted_danceability</th>\n",
       "    </tr>\n",
       "  </thead>\n",
       "  <tbody>\n",
       "    <tr>\n",
       "      <th>0</th>\n",
       "      <td>Lavender Haze</td>\n",
       "      <td>-10.519</td>\n",
       "      <td>0.444</td>\n",
       "      <td>0.735</td>\n",
       "      <td>0.603972</td>\n",
       "    </tr>\n",
       "    <tr>\n",
       "      <th>1</th>\n",
       "      <td>Maroon</td>\n",
       "      <td>-8.300</td>\n",
       "      <td>0.378</td>\n",
       "      <td>0.658</td>\n",
       "      <td>0.589133</td>\n",
       "    </tr>\n",
       "    <tr>\n",
       "      <th>2</th>\n",
       "      <td>Anti-Hero</td>\n",
       "      <td>-6.582</td>\n",
       "      <td>0.634</td>\n",
       "      <td>0.638</td>\n",
       "      <td>0.587875</td>\n",
       "    </tr>\n",
       "    <tr>\n",
       "      <th>3</th>\n",
       "      <td>Snow On The Beach (feat. Lana Del Rey)</td>\n",
       "      <td>-13.425</td>\n",
       "      <td>0.323</td>\n",
       "      <td>0.659</td>\n",
       "      <td>0.616494</td>\n",
       "    </tr>\n",
       "    <tr>\n",
       "      <th>4</th>\n",
       "      <td>You're On Your Own, Kid</td>\n",
       "      <td>-10.307</td>\n",
       "      <td>0.380</td>\n",
       "      <td>0.694</td>\n",
       "      <td>0.600632</td>\n",
       "    </tr>\n",
       "    <tr>\n",
       "      <th>...</th>\n",
       "      <td>...</td>\n",
       "      <td>...</td>\n",
       "      <td>...</td>\n",
       "      <td>...</td>\n",
       "      <td>...</td>\n",
       "    </tr>\n",
       "    <tr>\n",
       "      <th>1260</th>\n",
       "      <td>Mary's Song (Oh My My My) - Instrumental w/ BG...</td>\n",
       "      <td>-10.802</td>\n",
       "      <td>0.529</td>\n",
       "      <td>0.475</td>\n",
       "      <td>0.608416</td>\n",
       "    </tr>\n",
       "    <tr>\n",
       "      <th>1261</th>\n",
       "      <td>Our Song - Instrumental w/ BG vocals</td>\n",
       "      <td>-9.266</td>\n",
       "      <td>0.484</td>\n",
       "      <td>0.528</td>\n",
       "      <td>0.598167</td>\n",
       "    </tr>\n",
       "    <tr>\n",
       "      <th>1262</th>\n",
       "      <td>I'm Only Me When I'm With You - Instrumental w...</td>\n",
       "      <td>-8.833</td>\n",
       "      <td>0.796</td>\n",
       "      <td>0.541</td>\n",
       "      <td>0.606095</td>\n",
       "    </tr>\n",
       "    <tr>\n",
       "      <th>1263</th>\n",
       "      <td>Invisible - Instrumental w/ BG vocals</td>\n",
       "      <td>-12.066</td>\n",
       "      <td>0.279</td>\n",
       "      <td>0.575</td>\n",
       "      <td>0.607287</td>\n",
       "    </tr>\n",
       "    <tr>\n",
       "      <th>1264</th>\n",
       "      <td>A Perfectly Good Heart - Instrumental w/ BG vo...</td>\n",
       "      <td>-8.908</td>\n",
       "      <td>0.658</td>\n",
       "      <td>0.468</td>\n",
       "      <td>0.601924</td>\n",
       "    </tr>\n",
       "  </tbody>\n",
       "</table>\n",
       "<p>1265 rows × 5 columns</p>\n",
       "</div>"
      ],
      "text/plain": [
       "                                                   name  loudness  energy  \\\n",
       "0                                         Lavender Haze   -10.519   0.444   \n",
       "1                                                Maroon    -8.300   0.378   \n",
       "2                                             Anti-Hero    -6.582   0.634   \n",
       "3                Snow On The Beach (feat. Lana Del Rey)   -13.425   0.323   \n",
       "4                               You're On Your Own, Kid   -10.307   0.380   \n",
       "...                                                 ...       ...     ...   \n",
       "1260  Mary's Song (Oh My My My) - Instrumental w/ BG...   -10.802   0.529   \n",
       "1261               Our Song - Instrumental w/ BG vocals    -9.266   0.484   \n",
       "1262  I'm Only Me When I'm With You - Instrumental w...    -8.833   0.796   \n",
       "1263              Invisible - Instrumental w/ BG vocals   -12.066   0.279   \n",
       "1264  A Perfectly Good Heart - Instrumental w/ BG vo...    -8.908   0.658   \n",
       "\n",
       "      danceability  predicted_danceability  \n",
       "0            0.735                0.603972  \n",
       "1            0.658                0.589133  \n",
       "2            0.638                0.587875  \n",
       "3            0.659                0.616494  \n",
       "4            0.694                0.600632  \n",
       "...            ...                     ...  \n",
       "1260         0.475                0.608416  \n",
       "1261         0.528                0.598167  \n",
       "1262         0.541                0.606095  \n",
       "1263         0.575                0.607287  \n",
       "1264         0.468                0.601924  \n",
       "\n",
       "[1265 rows x 5 columns]"
      ]
     },
     "execution_count": 207,
     "metadata": {},
     "output_type": "execute_result"
    }
   ],
   "source": [
    "from sklearn.linear_model import LinearRegression\n",
    "model = LinearRegression()\n",
    "model.fit(df[['loudness', 'energy']], df['danceability'])\n",
    "df['predicted_danceability'] = model.predict(df[['loudness', 'energy']])\n",
    "df[['name','loudness', 'energy', 'danceability', 'predicted_danceability']]"
   ]
  },
  {
   "cell_type": "code",
   "execution_count": 208,
   "id": "8b7abd88",
   "metadata": {},
   "outputs": [
    {
     "data": {
      "text/html": [
       "<div>\n",
       "<style scoped>\n",
       "    .dataframe tbody tr th:only-of-type {\n",
       "        vertical-align: middle;\n",
       "    }\n",
       "\n",
       "    .dataframe tbody tr th {\n",
       "        vertical-align: top;\n",
       "    }\n",
       "\n",
       "    .dataframe thead th {\n",
       "        text-align: right;\n",
       "    }\n",
       "</style>\n",
       "<table border=\"1\" class=\"dataframe\">\n",
       "  <thead>\n",
       "    <tr style=\"text-align: right;\">\n",
       "      <th></th>\n",
       "      <th>name</th>\n",
       "      <th>tempo</th>\n",
       "      <th>duration_ms</th>\n",
       "      <th>popularity</th>\n",
       "      <th>predicted_popularity</th>\n",
       "    </tr>\n",
       "  </thead>\n",
       "  <tbody>\n",
       "    <tr>\n",
       "      <th>0</th>\n",
       "      <td>Lavender Haze</td>\n",
       "      <td>97.038</td>\n",
       "      <td>202395</td>\n",
       "      <td>76</td>\n",
       "      <td>38.110292</td>\n",
       "    </tr>\n",
       "    <tr>\n",
       "      <th>1</th>\n",
       "      <td>Maroon</td>\n",
       "      <td>108.034</td>\n",
       "      <td>218270</td>\n",
       "      <td>75</td>\n",
       "      <td>38.965640</td>\n",
       "    </tr>\n",
       "    <tr>\n",
       "      <th>2</th>\n",
       "      <td>Anti-Hero</td>\n",
       "      <td>96.953</td>\n",
       "      <td>200690</td>\n",
       "      <td>77</td>\n",
       "      <td>38.029118</td>\n",
       "    </tr>\n",
       "    <tr>\n",
       "      <th>3</th>\n",
       "      <td>Snow On The Beach (feat. Lana Del Rey)</td>\n",
       "      <td>110.007</td>\n",
       "      <td>256124</td>\n",
       "      <td>74</td>\n",
       "      <td>40.768698</td>\n",
       "    </tr>\n",
       "    <tr>\n",
       "      <th>4</th>\n",
       "      <td>You're On Your Own, Kid</td>\n",
       "      <td>120.044</td>\n",
       "      <td>194206</td>\n",
       "      <td>75</td>\n",
       "      <td>37.948813</td>\n",
       "    </tr>\n",
       "    <tr>\n",
       "      <th>...</th>\n",
       "      <td>...</td>\n",
       "      <td>...</td>\n",
       "      <td>...</td>\n",
       "      <td>...</td>\n",
       "      <td>...</td>\n",
       "    </tr>\n",
       "    <tr>\n",
       "      <th>1260</th>\n",
       "      <td>Mary's Song (Oh My My My) - Instrumental w/ BG...</td>\n",
       "      <td>151.000</td>\n",
       "      <td>216226</td>\n",
       "      <td>6</td>\n",
       "      <td>39.288437</td>\n",
       "    </tr>\n",
       "    <tr>\n",
       "      <th>1261</th>\n",
       "      <td>Our Song - Instrumental w/ BG vocals</td>\n",
       "      <td>178.299</td>\n",
       "      <td>204306</td>\n",
       "      <td>11</td>\n",
       "      <td>38.993016</td>\n",
       "    </tr>\n",
       "    <tr>\n",
       "      <th>1262</th>\n",
       "      <td>I'm Only Me When I'm With You - Instrumental w...</td>\n",
       "      <td>144.004</td>\n",
       "      <td>223386</td>\n",
       "      <td>6</td>\n",
       "      <td>39.557598</td>\n",
       "    </tr>\n",
       "    <tr>\n",
       "      <th>1263</th>\n",
       "      <td>Invisible - Instrumental w/ BG vocals</td>\n",
       "      <td>96.007</td>\n",
       "      <td>206480</td>\n",
       "      <td>5</td>\n",
       "      <td>38.292735</td>\n",
       "    </tr>\n",
       "    <tr>\n",
       "      <th>1264</th>\n",
       "      <td>A Perfectly Good Heart - Instrumental w/ BG vo...</td>\n",
       "      <td>155.995</td>\n",
       "      <td>227920</td>\n",
       "      <td>5</td>\n",
       "      <td>39.888223</td>\n",
       "    </tr>\n",
       "  </tbody>\n",
       "</table>\n",
       "<p>1265 rows × 5 columns</p>\n",
       "</div>"
      ],
      "text/plain": [
       "                                                   name    tempo  duration_ms  \\\n",
       "0                                         Lavender Haze   97.038       202395   \n",
       "1                                                Maroon  108.034       218270   \n",
       "2                                             Anti-Hero   96.953       200690   \n",
       "3                Snow On The Beach (feat. Lana Del Rey)  110.007       256124   \n",
       "4                               You're On Your Own, Kid  120.044       194206   \n",
       "...                                                 ...      ...          ...   \n",
       "1260  Mary's Song (Oh My My My) - Instrumental w/ BG...  151.000       216226   \n",
       "1261               Our Song - Instrumental w/ BG vocals  178.299       204306   \n",
       "1262  I'm Only Me When I'm With You - Instrumental w...  144.004       223386   \n",
       "1263              Invisible - Instrumental w/ BG vocals   96.007       206480   \n",
       "1264  A Perfectly Good Heart - Instrumental w/ BG vo...  155.995       227920   \n",
       "\n",
       "      popularity  predicted_popularity  \n",
       "0             76             38.110292  \n",
       "1             75             38.965640  \n",
       "2             77             38.029118  \n",
       "3             74             40.768698  \n",
       "4             75             37.948813  \n",
       "...          ...                   ...  \n",
       "1260           6             39.288437  \n",
       "1261          11             38.993016  \n",
       "1262           6             39.557598  \n",
       "1263           5             38.292735  \n",
       "1264           5             39.888223  \n",
       "\n",
       "[1265 rows x 5 columns]"
      ]
     },
     "execution_count": 208,
     "metadata": {},
     "output_type": "execute_result"
    }
   ],
   "source": [
    "from sklearn.linear_model import LinearRegression\n",
    "model = LinearRegression()\n",
    "model.fit(df[['tempo', 'duration_ms']], df['popularity'])\n",
    "df['predicted_popularity'] = model.predict(df[['tempo', 'duration_ms']])\n",
    "df[['name', 'tempo', 'duration_ms', 'popularity', 'predicted_popularity']]"
   ]
  }
 ],
 "metadata": {
  "kernelspec": {
   "display_name": "base",
   "language": "python",
   "name": "python3"
  },
  "language_info": {
   "codemirror_mode": {
    "name": "ipython",
    "version": 3
   },
   "file_extension": ".py",
   "mimetype": "text/x-python",
   "name": "python",
   "nbconvert_exporter": "python",
   "pygments_lexer": "ipython3",
   "version": "3.9.13 (main, Aug 25 2022, 18:29:29) \n[Clang 12.0.0 ]"
  },
  "vscode": {
   "interpreter": {
    "hash": "718f09688e2480dec95513182665207aa98f11245311711f49b0181b01ef3dbc"
   }
  }
 },
 "nbformat": 4,
 "nbformat_minor": 5
}
